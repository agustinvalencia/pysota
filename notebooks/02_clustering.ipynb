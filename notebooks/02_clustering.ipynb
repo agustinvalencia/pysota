{
 "cells": [
  {
   "cell_type": "code",
   "execution_count": null,
   "id": "5e65c938",
   "metadata": {},
   "outputs": [],
   "source": [
    "from pathlib import Path\n",
    "\n",
    "import numpy as np\n",
    "import spacy\n",
    "from sklearn.cluster import AgglomerativeClustering\n",
    "\n",
    "from pysota.process import Persistence\n",
    "\n",
    "nlp = spacy.load('en_core_web_lg')\n",
    "results_dir = Path('../results/clean')"
   ]
  },
  {
   "cell_type": "code",
   "execution_count": null,
   "id": "f1f68cc8",
   "metadata": {},
   "outputs": [],
   "source": [
    "db = Persistence.load_files(results_dir)\n",
    "print(len(db))"
   ]
  },
  {
   "cell_type": "code",
   "execution_count": null,
   "id": "fdb23221",
   "metadata": {},
   "outputs": [],
   "source": [
    "documents = [i.abstract for i in db]\n",
    "doc_vectors = [nlp(doc).vector for doc in documents]\n",
    "X = np.array(doc_vectors)\n",
    "\n",
    "eps = 0.5\n",
    "mtric = 'euclidean'\n",
    "\n",
    "# cluster = DBSCAN(eps=eps, min_samples=2)\n",
    "# dbscan = OPTICS(min_samples=2)\n",
    "cluster = AgglomerativeClustering(\n",
    "    n_clusters=10,\n",
    "    metric=metric,\n",
    "    linkage='ward',\n",
    ")\n",
    "# cluster = HDBSCAN(metric='cosine',  max_cluster_size=20)\n",
    "cluster.fit(X)\n",
    "\n",
    "# Group documents by their cluster labels\n",
    "clusters = {}\n",
    "for idx, label in enumerate(cluster.labels_):\n",
    "    clusters.setdefault(label, []).append(db[idx])"
   ]
  },
  {
   "cell_type": "code",
   "execution_count": null,
   "id": "64ca2b96",
   "metadata": {},
   "outputs": [],
   "source": [
    "# Print the number of documents in each cluster\n",
    "print(f' Number of clusters: {len(clusters)} \\n\\n')\n",
    "for label, docs in clusters.items():\n",
    "    if label == -1:\n",
    "        print(f'Noise: {len(docs)} documents')\n",
    "    else:\n",
    "        print(f'Cluster {label}: {len(docs)} documents')"
   ]
  },
  {
   "cell_type": "code",
   "execution_count": null,
   "id": "f7442e0f",
   "metadata": {},
   "outputs": [],
   "source": [
    "# Print the number of documents in each cluster\n",
    "print(f' Number of clusters: {len(clusters)} with eps = {eps}\\n\\n')\n",
    "for label, docs in clusters.items():\n",
    "    if label == -1:\n",
    "        print(f'Noise: {len(docs)} documents')\n",
    "    else:\n",
    "        print(f'Cluster {label}: {len(docs)} documents')\n",
    "    for doc in docs:\n",
    "        title = doc.title.replace('\\n', ' ')\n",
    "        print(f'  - {title}')\n",
    "    print('\\n\\n ========================================================= \\n\\n')"
   ]
  },
  {
   "cell_type": "code",
   "execution_count": null,
   "id": "97ef1896",
   "metadata": {},
   "outputs": [],
   "source": [
    "Persistence.save_clusters(clusters, Path(f'../results/clustered/{metric}'))"
   ]
  }
 ],
 "metadata": {
  "kernelspec": {
   "display_name": ".venv",
   "language": "python",
   "name": "python3"
  }
 },
 "nbformat": 4,
 "nbformat_minor": 5
}
